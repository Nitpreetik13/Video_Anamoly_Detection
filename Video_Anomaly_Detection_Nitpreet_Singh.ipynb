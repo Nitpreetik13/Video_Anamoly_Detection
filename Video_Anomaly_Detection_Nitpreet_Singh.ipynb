{
  "nbformat": 4,
  "nbformat_minor": 0,
  "metadata": {
    "colab": {
      "provenance": [],
      "authorship_tag": "ABX9TyNFa4lXjAxRtZzH2/fQY2V7",
      "include_colab_link": true
    },
    "kernelspec": {
      "name": "python3",
      "display_name": "Python 3"
    },
    "language_info": {
      "name": "python"
    }
  },
  "cells": [
    {
      "cell_type": "markdown",
      "metadata": {
        "id": "view-in-github",
        "colab_type": "text"
      },
      "source": [
        "<a href=\"https://colab.research.google.com/github/Nitpreetik13/Video_Anamoly_Detection/blob/main/Video_Anomaly_Detection_Nitpreet_Singh.ipynb\" target=\"_parent\"><img src=\"https://colab.research.google.com/assets/colab-badge.svg\" alt=\"Open In Colab\"/></a>"
      ]
    },
    {
      "cell_type": "markdown",
      "source": [
        "IMPORTING REQUIRED LIBRARIES"
      ],
      "metadata": {
        "id": "cn3xTyDJiXlk"
      }
    },
    {
      "cell_type": "code",
      "execution_count": null,
      "metadata": {
        "id": "-Y8m4J6rf9l_"
      },
      "outputs": [],
      "source": [
        "import cv2\n",
        "import os\n",
        "import numpy as np"
      ]
    },
    {
      "cell_type": "markdown",
      "source": [
        "LOADING VIDEO AND THEN TAKING FRAMES"
      ],
      "metadata": {
        "id": "DPn9Mp8niW_x"
      }
    },
    {
      "cell_type": "code",
      "source": [
        "def load_video_frames(video_file):\n",
        "\n",
        "    if not os.path.isfile(video_file):\n",
        "        raise FileNotFoundError(f\"Video file '{video_file}' not found.\")\n",
        "\n",
        "    video_cap = cv2.VideoCapture(video_file)\n",
        "    frames = []\n",
        "    while True:\n",
        "        ret, frame = video_cap.read()\n",
        "        if not ret:\n",
        "            break\n",
        "        frames.append(frame)\n",
        "    return frames"
      ],
      "metadata": {
        "id": "bH4iZ7qrgIuU"
      },
      "execution_count": null,
      "outputs": []
    },
    {
      "cell_type": "markdown",
      "source": [
        "DETECTING ANAMOLY USNG FRAME DIFFRENCING AND THRESHOLD"
      ],
      "metadata": {
        "id": "vlO1YkWnxFq6"
      }
    },
    {
      "cell_type": "code",
      "source": [
        "def detect_anomalies(frames, threshold=100000):\n",
        "\n",
        "    anomalies = []\n",
        "    prev_frame = cv2.cvtColor(frames[0], cv2.COLOR_BGR2GRAY)\n",
        "    for i in range(1, len(frames)):\n",
        "        current_frame = cv2.cvtColor(frames[i], cv2.COLOR_BGR2GRAY)\n",
        "        frame_diff = cv2.absdiff(current_frame, prev_frame)\n",
        "        if np.sum(frame_diff) > threshold:\n",
        "            anomalies.append(i)\n",
        "        prev_frame = current_frame\n",
        "    return anomalies"
      ],
      "metadata": {
        "id": "tjhGNO05gL3F"
      },
      "execution_count": null,
      "outputs": []
    },
    {
      "cell_type": "markdown",
      "source": [
        "DRAW BOUBDING BOXES"
      ],
      "metadata": {
        "id": "R4pozC_vxK6T"
      }
    },
    {
      "cell_type": "code",
      "source": [
        "def draw_bounding_boxes(frames, anomalies):\n",
        "    for frame_number in anomalies:\n",
        "        frame = frames[frame_number].copy()\n",
        "        cv2.rectangle(frame, (0, 0), (frame.shape[1], frame.shape[0]), (0, 0, 255), 2)\n",
        "        frames[frame_number] = frame\n",
        "    return frames"
      ],
      "metadata": {
        "id": "RCcyxGB1gWqH"
      },
      "execution_count": null,
      "outputs": []
    },
    {
      "cell_type": "code",
      "source": [
        "def main():\n",
        "\n",
        "    video_file = \"3.mp4\"\n",
        "    frames = load_video_frames(video_file)\n",
        "    if not frames:\n",
        "        print(\"Error: No frames found in the video.\")\n",
        "        return\n",
        "\n",
        "    anomalies = detect_anomalies(frames)\n",
        "\n",
        "    if anomalies:\n",
        "        print(\"Anomalies detected at frames:\", anomalies)\n",
        "\n",
        "        # Draw bounding boxes around anomalies\n",
        "        frames_with_boxes = draw_bounding_boxes(frames.copy(), anomalies)\n",
        "\n",
        "        # Save the video with bounding boxes\n",
        "        output_video_file = \"3edited.mp4\"\n",
        "        out = cv2.VideoWriter(output_video_file, cv2.VideoWriter_fourcc(*\"XVID\"), 30.0, (frames[0].shape[1], frames[0].shape[0]))\n",
        "        for frame in frames_with_boxes:\n",
        "            out.write(frame)\n",
        "        out.release()\n",
        "\n",
        "        print(\"Video with bounding boxes saved as:\", output_video_file)\n",
        "    else:\n",
        "        print(\"No anomalies detected in the video.\")\n",
        "\n",
        "if __name__ == \"__main__\":\n",
        "    main()"
      ],
      "metadata": {
        "colab": {
          "base_uri": "https://localhost:8080/"
        },
        "id": "BaabR5j3gdOD",
        "outputId": "ff0db98f-aaef-4a24-9453-3ca6d4f0efac"
      },
      "execution_count": null,
      "outputs": [
        {
          "output_type": "stream",
          "name": "stdout",
          "text": [
            "Anomalies detected at frames: [13, 14, 17, 18, 19, 20, 21, 22, 25, 26, 27, 28, 29, 30, 31, 32, 33, 35, 36, 38, 39, 44, 48, 49, 62, 63, 66, 67, 68, 69, 72, 73, 74, 75, 77, 78, 81, 82, 84, 85, 86, 87, 88, 91, 92, 93, 94, 96, 97, 100, 101, 102, 103, 104, 105, 106, 108, 109, 110, 112, 113, 114, 115, 116, 118, 119, 129, 132, 133, 135, 137, 138, 139, 140, 141, 143, 144, 148, 156, 159, 160, 163, 164, 165, 166, 167, 168, 169, 170, 172, 173, 174, 175, 176, 177, 178, 179, 181, 183, 184, 185, 187, 188, 194, 195, 197, 198, 200, 201, 202, 204, 205, 207, 208, 210, 211, 212, 213, 214, 215, 216, 217, 220, 221, 222, 223, 224, 225, 229, 233, 234, 236, 237, 238, 245, 249, 250, 258, 259, 262, 263, 264, 267, 272, 273, 274, 278, 279, 280, 281, 282, 285, 286, 289, 292, 293, 296, 301, 313, 320, 321, 330, 331, 332, 333, 334, 335, 336, 337, 338, 339, 340, 341, 342, 343, 344, 345, 346, 347, 348, 351, 352, 353, 355, 356, 359, 360, 361, 364, 365, 366, 369, 371, 372, 374, 375, 381, 387, 390, 391, 394, 395, 396, 397, 398, 399, 400, 401, 402, 403, 404, 405, 406, 407, 408, 409, 410, 411, 412, 415, 416, 419, 424, 427, 428, 429, 430, 431, 439, 443, 446, 447, 448, 449, 451, 452, 453, 454, 455, 456, 457, 458, 459, 460, 461, 463, 464, 465, 466, 467, 468, 469, 470, 472, 473, 480, 481, 482, 484, 485, 487, 488, 489, 492, 495, 497, 499, 500, 504, 510, 511, 512, 513, 514, 515, 516, 517, 518, 519, 520, 523, 525, 526, 527, 528, 531, 532, 534, 535, 536, 537, 538, 539, 543, 544, 547, 550, 551, 552, 553, 554, 556, 558, 559, 567, 568, 571, 577, 578, 579, 580, 583, 584, 586, 587, 589, 590, 594, 597, 598, 600, 601, 602, 603, 604, 607, 609, 610, 612, 613, 614, 615, 616, 618, 619, 621, 625, 629, 634, 640, 646, 647, 669, 689, 690, 691, 692, 693, 694, 695, 696, 697, 698, 700]\n",
            "Video with bounding boxes saved as: 3edited.mp4\n"
          ]
        }
      ]
    },
    {
      "cell_type": "code",
      "source": [
        "from google.colab import files\n",
        "\n",
        "files.download('3edited.mp4')"
      ],
      "metadata": {
        "colab": {
          "base_uri": "https://localhost:8080/",
          "height": 34
        },
        "id": "vO_je6kShYAr",
        "outputId": "fad84f65-6f71-4557-8b13-87488ea71151"
      },
      "execution_count": null,
      "outputs": [
        {
          "output_type": "display_data",
          "data": {
            "text/plain": [
              "<IPython.core.display.Javascript object>"
            ],
            "application/javascript": [
              "\n",
              "    async function download(id, filename, size) {\n",
              "      if (!google.colab.kernel.accessAllowed) {\n",
              "        return;\n",
              "      }\n",
              "      const div = document.createElement('div');\n",
              "      const label = document.createElement('label');\n",
              "      label.textContent = `Downloading \"${filename}\": `;\n",
              "      div.appendChild(label);\n",
              "      const progress = document.createElement('progress');\n",
              "      progress.max = size;\n",
              "      div.appendChild(progress);\n",
              "      document.body.appendChild(div);\n",
              "\n",
              "      const buffers = [];\n",
              "      let downloaded = 0;\n",
              "\n",
              "      const channel = await google.colab.kernel.comms.open(id);\n",
              "      // Send a message to notify the kernel that we're ready.\n",
              "      channel.send({})\n",
              "\n",
              "      for await (const message of channel.messages) {\n",
              "        // Send a message to notify the kernel that we're ready.\n",
              "        channel.send({})\n",
              "        if (message.buffers) {\n",
              "          for (const buffer of message.buffers) {\n",
              "            buffers.push(buffer);\n",
              "            downloaded += buffer.byteLength;\n",
              "            progress.value = downloaded;\n",
              "          }\n",
              "        }\n",
              "      }\n",
              "      const blob = new Blob(buffers, {type: 'application/binary'});\n",
              "      const a = document.createElement('a');\n",
              "      a.href = window.URL.createObjectURL(blob);\n",
              "      a.download = filename;\n",
              "      div.appendChild(a);\n",
              "      a.click();\n",
              "      div.remove();\n",
              "    }\n",
              "  "
            ]
          },
          "metadata": {}
        },
        {
          "output_type": "display_data",
          "data": {
            "text/plain": [
              "<IPython.core.display.Javascript object>"
            ],
            "application/javascript": [
              "download(\"download_d71869ab-4f2a-4aef-84f7-bec12a1ebde3\", \"3edited.mp4\", 2665974)"
            ]
          },
          "metadata": {}
        }
      ]
    }
  ]
}